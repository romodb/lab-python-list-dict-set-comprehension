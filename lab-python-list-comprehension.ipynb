{
 "cells": [
  {
   "cell_type": "markdown",
   "id": "25d7736c-ba17-4aff-b6bb-66eba20fbf4e",
   "metadata": {},
   "source": [
    "# Lab | List, Dict and Set Comprehension"
   ]
  },
  {
   "cell_type": "markdown",
   "id": "7dd3cbde-675a-4b81-92c3-f728846dbe06",
   "metadata": {},
   "source": [
    "## Exercise: Managing Customer Orders Optimized with Comprehension"
   ]
  },
  {
   "cell_type": "markdown",
   "id": "5d500160-2fb7-4777-b5e4-09d45ebaf328",
   "metadata": {},
   "source": [
    "In the previous exercise, you developed a program to manage customer orders and inventory. Now, let's take it a step further and incorporate comprehension into your code.\n",
    "\n",
    "Follow the steps below to complete the exercise:\n",
    "\n",
    "1. Review your code from the previous exercise and identify areas where you can apply comprehension to simplify and streamline your code. \n",
    "\n",
    "    - *Hint: Apply it to initialize inventory, updating the inventory and printing the updated inventory.*\n",
    "    \n",
    "    - For example, in initializing the inventory, we could have:\n",
    "    \n",
    "        ```python\n",
    "        def initialize_inventory(products):\n",
    "            inventory = {product: int(input(f\"Enter the quantity of {product}s available: \")) for product in products}\n",
    "            return inventory\n",
    "\n",
    "        ```\n",
    "<br>\n",
    "    \n",
    "    \n",
    "2. Modify the function get_customer_orders so it prompts the user to enter the number of customer orders and gathers the product names using a loop and user input. Use comprehension.\n",
    "\n",
    "3. Add a new function to calculate the total price of the customer order. For each product in customer_orders, prompt the user to enter the price of that product. Use comprehension to calculate the total price. Note: assume that the user can only have 1 unit of each product.\n",
    "\n",
    "4. Modify the update_inventory function to remove the product from the inventory if its quantity becomes zero after fulfilling the customer orders. Use comprehension to filter out the products with a quantity of zero from the inventory.\n",
    "\n",
    "5. Print the total price of the customer order.\n",
    "\n",
    "Your code should produce output similar to the following:\n",
    "\n",
    "```python\n",
    "Enter the quantity of t-shirts available:  5\n",
    "Enter the quantity of mugs available:  4\n",
    "Enter the quantity of hats available:  3\n",
    "Enter the quantity of books available:  2\n",
    "Enter the quantity of keychains available:  1\n",
    "Enter the number of customer orders:  2\n",
    "Enter the name of a product that a customer wants to order:  hat\n",
    "Enter the name of a product that a customer wants to order:  keychain\n",
    "\n",
    "Order Statistics:\n",
    "Total Products Ordered: 2\n",
    "Percentage of Unique Products Ordered: 40.0\n",
    "\n",
    "Updated Inventory:\n",
    "t-shirt: 5\n",
    "mug: 4\n",
    "hat: 2\n",
    "book: 2\n",
    "Enter the price of keychain:  5\n",
    "Enter the price of hat:  10\n",
    "Total Price: 15.0\n",
    "\n",
    "```\n"
   ]
  },
  {
   "cell_type": "code",
   "execution_count": 8,
   "id": "2b258271",
   "metadata": {},
   "outputs": [],
   "source": [
    "def ini_inventory(products):\n",
    "    \"inventario\" == {\"hat\" : 4, \"book\" : 5, \"key-chane\" : 7, \"mug\" : 2 }\n",
    "    for product in products:\n",
    "        while True:\n",
    "            try:\n",
    "                cantidad = int(input(f\"Ingrese la cantidad disponible para {product}: \"))\n",
    "                if cantidad < 0:\n",
    "                    print(\"La cantidad no puede ser negativa. Inténtalo de nuevo.\")\n",
    "                else:\n",
    "                    break\n",
    "            except ValueError:\n",
    "                print(\"Por favor, ingresa un número válido.\")"
   ]
  },
  {
   "cell_type": "code",
   "execution_count": 11,
   "id": "6b7e582b",
   "metadata": {},
   "outputs": [
    {
     "name": "stdout",
     "output_type": "stream",
     "text": [
      "Muchas gracias por tu compra\n"
     ]
    }
   ],
   "source": [
    "def get_customers_orders():\n",
    "    customers_orders = set()\n",
    "    while True:\n",
    "        product = input(\"Por favor escribe lo que quieras comprar, si deseas cancelar la compra escribe salir\").strip()\n",
    "        if product.lower() == \"salir\":\n",
    "            print(\"Muchas gracias por tu compra\")\n",
    "            break\n",
    "        if product:\n",
    "            customers_orders.add(product)  \n",
    "            input(\"¿Quieres añadir algo mas?, si quieres salir escribe salir\")\n",
    "        else:\n",
    "            raise \"No tenemos eso en el inventario\"\n",
    "    return customers_orders\n",
    "\n",
    "pedidos = get_customers_orders()"
   ]
  },
  {
   "cell_type": "code",
   "execution_count": null,
   "id": "008bac25",
   "metadata": {},
   "outputs": [],
   "source": [
    "def update_inventory(customers_orders, inventario):\n",
    "    for product in customers_orders:\n",
    "        if product in inventario:\n",
    "            if inventario[product] >= 1:\n",
    "                print(f\"Quedan {inventario[product]} en el almacen\")\n",
    "            else:\n",
    "                print(\"Te falta stock\")\n",
    "        else:\n",
    "            print(\"No es un artículo de nuestro catálogo\")\n",
    "    \n",
    "    return inventario"
   ]
  },
  {
   "cell_type": "code",
   "execution_count": null,
   "id": "0c830676",
   "metadata": {},
   "outputs": [],
   "source": [
    "def calculate_order_statistics(customer_orders, products):\n",
    "    total_products_ordered = len(customer_orders)\n",
    "    \n",
    "    total_unique_products = len(products)  \n",
    "    if total_unique_products > 0:\n",
    "        percentage_unique_ordered = (len(customer_orders) / total_unique_products) * 100\n",
    "    else:\n",
    "        percentage_unique_ordered = 0  \n",
    "\n",
    "    return total_products_ordered, percentage_unique_ordered"
   ]
  },
  {
   "cell_type": "code",
   "execution_count": 18,
   "id": "28ef5a7d",
   "metadata": {},
   "outputs": [],
   "source": [
    "order_statistics = {\n",
    "    \"total_items\": 60,\n",
    "    \"coste_total\": 55,\n",
    "    \"items\": [\n",
    "        {\"name\": \"key-chane\", \"quantity\": 10, \"price\": 5},\n",
    "        {\"name\": \"Mug\", \"quantity\": 25, \"price\": 15},\n",
    "        {\"name\": \"Book\", \"quantity\": 10, \"price\": 20},\n",
    "        {\"name\": \"Hat\", \"quantity\": 15, \"price\": 15}\n",
    "    ]\n",
    "}\n",
    "\n",
    "def print_order_statistics(order_statistics):\n",
    "    total_items = order_statistics.get(\"total_items\", 0)\n",
    "    total_cost = order_statistics.get(\"coste_total\", 0.0)\n",
    "\n",
    "    [print(f\"Estadísticas del Pedido: \\n Total de artículos: {total_items}\\n Costo total: ${total_cost:.2f}\") for item in order_statistics.items()]\n",
    "    \n",
    "    print(\"\\nDetalles de los productos:\")\n",
    "    for item in order_statistics.get(\"items\", []):\n",
    "        name = item.get(\"name\", \"Desconocido\")\n",
    "        quantity = item.get(\"quantity\", 0)\n",
    "        price = item.get(\"price\", 0.0)\n",
    "        print(f\"- Producto: {name}, Cantidad: {quantity}, Precio: ${price:.2f}\")"
   ]
  },
  {
   "cell_type": "code",
   "execution_count": 15,
   "id": "bc74d9dc",
   "metadata": {},
   "outputs": [],
   "source": [
    "def print_updated_inventory(inventario):\n",
    "        [print(f\"{item}: {cantidad}\") for item, cantidad in inventario.items()]"
   ]
  }
 ],
 "metadata": {
  "kernelspec": {
   "display_name": "Python 3",
   "language": "python",
   "name": "python3"
  },
  "language_info": {
   "codemirror_mode": {
    "name": "ipython",
    "version": 3
   },
   "file_extension": ".py",
   "mimetype": "text/x-python",
   "name": "python",
   "nbconvert_exporter": "python",
   "pygments_lexer": "ipython3",
   "version": "3.12.5"
  }
 },
 "nbformat": 4,
 "nbformat_minor": 5
}
